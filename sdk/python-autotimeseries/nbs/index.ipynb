{
 "cells": [
  {
   "cell_type": "markdown",
   "metadata": {},
   "source": [
    "# autotimeseries\n",
    "\n",
    "> Nixtla SDK. Time Series Forecasting pipeline at scale."
   ]
  },
  {
   "cell_type": "markdown",
   "metadata": {},
   "source": [
    "[![CI python sdk](https://github.com/Nixtla/nixtla/actions/workflows/python-sdk.yml/badge.svg)](https://github.com/Nixtla/nixtla/actions/workflows/python-sdk.yml)\n",
    "[![Python](https://img.shields.io/pypi/pyversions/autotimeseries)](https://pypi.org/project/autotimeseries/)\n",
    "[![PyPi](https://img.shields.io/pypi/v/autotimeseries?color=blue)](https://pypi.org/project/autotimeseries/)\n",
    "[![License](https://img.shields.io/github/license/Nixtla/autotimeseries)](https://github.com/Nixtla/nixtla/sdk/python-autotimeseries/blob/main/LICENSE)"
   ]
  },
  {
   "cell_type": "markdown",
   "metadata": {},
   "source": [
    "**autotimeseries** is a python SDK to consume the APIs developed in https://github.com/Nixtla/nixtla."
   ]
  },
  {
   "cell_type": "markdown",
   "metadata": {},
   "source": [
    "## Install"
   ]
  },
  {
   "cell_type": "markdown",
   "metadata": {},
   "source": [
    "### PyPI\n",
    "\n",
    "`pip install autotimeseries`"
   ]
  },
  {
   "cell_type": "markdown",
   "metadata": {
    "tags": []
   },
   "source": [
    "## How to use\n",
    "\n",
    "Check the following examples for a full pipeline:\n",
    "\n",
    "- [M5 state-of-the-art reproduction](https://github.com/Nixtla/autotimeseries/tree/main/examples/m5).\n",
    "- [M5 state-of-the-art reproduction in Colab](https://colab.research.google.com/drive/1pmp4rqiwiPL-ambxTrJGBiNMS-7vm3v6?ts=616700c4)"
   ]
  },
  {
   "cell_type": "markdown",
   "metadata": {},
   "source": [
    "### Basic usage"
   ]
  },
  {
   "cell_type": "markdown",
   "metadata": {},
   "source": [
    "```python\n",
    "import os\n",
    "\n",
    "from autotimeseries.core import AutoTS\n",
    "\n",
    "autotimeseries = AutoTS(bucket_name=os.environ['BUCKET_NAME'],\n",
    "                        api_id=os.environ['API_ID'], \n",
    "                        api_key=os.environ['API_KEY'],\n",
    "                        aws_access_key_id=os.environ['AWS_ACCESS_KEY_ID'], \n",
    "                        aws_secret_access_key=os.environ['AWS_SECRET_ACCESS_KEY'])\n",
    "```"
   ]
  },
  {
   "cell_type": "markdown",
   "metadata": {
    "tags": []
   },
   "source": [
    "#### Upload dataset to S3\n",
    "\n",
    "```python\n",
    "train_dir = '../data/m5/parquet/train'\n",
    "# File with target variables\n",
    "filename_target = autotimeseries.upload_to_s3(f'{train_dir}/target.parquet')\n",
    "# File with static variables\n",
    "filename_static = autotimeseries.upload_to_s3(f'{train_dir}/static.parquet')\n",
    "# File with temporal variables\n",
    "filename_temporal = autotimeseries.upload_to_s3(f'{train_dir}/temporal.parquet')\n",
    "```"
   ]
  },
  {
   "cell_type": "markdown",
   "metadata": {},
   "source": [
    "Each time series of the uploaded datasets is defined by the column `item_id`. Meanwhile the time column is defined by `timestamp` and the target column by `demand`. We need to pass this arguments to each call.\n",
    "\n",
    "```python\n",
    "columns = dict(unique_id_column='item_id',\n",
    "               ds_column='timestamp',\n",
    "               y_column='demand')\n",
    "```"
   ]
  },
  {
   "cell_type": "markdown",
   "metadata": {
    "tags": []
   },
   "source": [
    "#### Send the job to make forecasts\n",
    "\n",
    "```python\n",
    "response_forecast = autotimeseries.tsforecast(filename_target=filename_target,\n",
    "                                              freq='D',\n",
    "                                              horizon=28, \n",
    "                                              filename_static=filename_static,\n",
    "                                              filename_temporal=filename_temporal,\n",
    "                                              objective='tweedie',\n",
    "                                              metric='rmse',\n",
    "                                              n_estimators=170,\n",
    "                                              **columns)\n",
    "```"
   ]
  },
  {
   "cell_type": "markdown",
   "metadata": {},
   "source": [
    "#### Download forecasts\n",
    "\n",
    "```python\n",
    "autotimeseries.download_from_s3(filename='forecasts_2021-10-12_19-04-32.csv', filename_output='../data/forecasts.csv')\n",
    "```"
   ]
  }
 ],
 "metadata": {
  "kernelspec": {
   "display_name": "Python 3 (ipykernel)",
   "language": "python",
   "name": "python3"
  },
  "language_info": {
   "codemirror_mode": {
    "name": "ipython",
    "version": 3
   },
   "file_extension": ".py",
   "mimetype": "text/x-python",
   "name": "python",
   "nbconvert_exporter": "python",
   "pygments_lexer": "ipython3",
   "version": "3.9.7"
  }
 },
 "nbformat": 4,
 "nbformat_minor": 4
}
