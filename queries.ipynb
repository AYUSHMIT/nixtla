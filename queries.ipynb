{
 "cells": [
  {
   "cell_type": "code",
   "execution_count": null,
   "metadata": {},
   "outputs": [
    {
     "data": {
      "text/plain": [
       "True"
      ]
     },
     "execution_count": null,
     "metadata": {},
     "output_type": "execute_result"
    }
   ],
   "source": [
    "import pandas as pd\n",
    "import matplotlib.pyplot as plt\n",
    "\n",
    "from dotenv import load_dotenv\n",
    "load_dotenv()"
   ]
  },
  {
   "cell_type": "code",
   "execution_count": null,
   "metadata": {},
   "outputs": [],
   "source": [
    "def fill_missing_hours(df, date_col, unique_id_col, fill_date, fill_value=0):\n",
    "    \"\"\"\n",
    "    df: Pandas DataFrame containing the data\n",
    "    date_col: The name of the column in df that contains dates\n",
    "    unique_id_col: The name of the column in df that contains unique ids\n",
    "    fill_date: The date until which we should create new rows for missing days\n",
    "    fill_value: The value to fill in the new rows. Defaults to 0.\n",
    "    \"\"\"\n",
    "    \n",
    "    # Ensure date is in datetime format\n",
    "    df[date_col] = pd.to_datetime(df[date_col])\n",
    "\n",
    "    # Create a new DataFrame to store the filled data\n",
    "    filled_df = pd.DataFrame()\n",
    "\n",
    "    df_list = []\n",
    "    # Loop through each unique id\n",
    "    for unique_id in df[unique_id_col].unique():\n",
    "        \n",
    "        # Filter original DataFrame to only rows of the current unique_id\n",
    "        unique_id_df = df[df[unique_id_col] == unique_id]\n",
    "\n",
    "        min_date = unique_id_df[date_col].min()\n",
    "        \n",
    "        # Create a DataFrame with all dates from min_date to fill_date for the current unique_id\n",
    "        date_range_df = pd.DataFrame({\n",
    "            unique_id_col: unique_id,\n",
    "            date_col: pd.date_range(start=min_date, end=fill_date, freq='H')\n",
    "        })\n",
    "\n",
    "        # Merge date_range_df with unique_id_df\n",
    "        merged_df = pd.merge(date_range_df, unique_id_df, on=[unique_id_col, date_col], how='left')\n",
    "\n",
    "        # Append the filled data for the current unique_id to filled_df\n",
    "        df_list.append(merged_df)\n",
    "\n",
    "    filled_df = pd.concat(df_list)\n",
    "    # Fill missing values with fill_value\n",
    "    filled_df.fillna(fill_value, inplace=True)\n",
    "\n",
    "    return filled_df"
   ]
  },
  {
   "cell_type": "code",
   "execution_count": null,
   "metadata": {},
   "outputs": [
    {
     "data": {
      "text/html": [
       "<div>\n",
       "<style scoped>\n",
       "    .dataframe tbody tr th:only-of-type {\n",
       "        vertical-align: middle;\n",
       "    }\n",
       "\n",
       "    .dataframe tbody tr th {\n",
       "        vertical-align: top;\n",
       "    }\n",
       "\n",
       "    .dataframe thead th {\n",
       "        text-align: right;\n",
       "    }\n",
       "</style>\n",
       "<table border=\"1\" class=\"dataframe\">\n",
       "  <thead>\n",
       "    <tr style=\"text-align: right;\">\n",
       "      <th></th>\n",
       "      <th>unique_id</th>\n",
       "      <th>ds</th>\n",
       "      <th>count</th>\n",
       "    </tr>\n",
       "  </thead>\n",
       "  <tbody>\n",
       "    <tr>\n",
       "      <th>0</th>\n",
       "      <td>calls_per_hour</td>\n",
       "      <td>2023-08-11 01:00:00+00:00</td>\n",
       "      <td>0.0</td>\n",
       "    </tr>\n",
       "    <tr>\n",
       "      <th>1</th>\n",
       "      <td>calls_per_hour</td>\n",
       "      <td>2023-08-11 02:00:00+00:00</td>\n",
       "      <td>0.0</td>\n",
       "    </tr>\n",
       "    <tr>\n",
       "      <th>2</th>\n",
       "      <td>calls_per_hour</td>\n",
       "      <td>2023-08-11 03:00:00+00:00</td>\n",
       "      <td>0.0</td>\n",
       "    </tr>\n",
       "    <tr>\n",
       "      <th>3</th>\n",
       "      <td>calls_per_hour</td>\n",
       "      <td>2023-08-11 04:00:00+00:00</td>\n",
       "      <td>0.0</td>\n",
       "    </tr>\n",
       "    <tr>\n",
       "      <th>4</th>\n",
       "      <td>calls_per_hour</td>\n",
       "      <td>2023-08-11 05:00:00+00:00</td>\n",
       "      <td>0.0</td>\n",
       "    </tr>\n",
       "    <tr>\n",
       "      <th>...</th>\n",
       "      <td>...</td>\n",
       "      <td>...</td>\n",
       "      <td>...</td>\n",
       "    </tr>\n",
       "    <tr>\n",
       "      <th>163</th>\n",
       "      <td>calls_per_hour</td>\n",
       "      <td>2023-08-17 20:00:00+00:00</td>\n",
       "      <td>0.0</td>\n",
       "    </tr>\n",
       "    <tr>\n",
       "      <th>164</th>\n",
       "      <td>calls_per_hour</td>\n",
       "      <td>2023-08-17 21:00:00+00:00</td>\n",
       "      <td>0.0</td>\n",
       "    </tr>\n",
       "    <tr>\n",
       "      <th>165</th>\n",
       "      <td>calls_per_hour</td>\n",
       "      <td>2023-08-17 22:00:00+00:00</td>\n",
       "      <td>15.0</td>\n",
       "    </tr>\n",
       "    <tr>\n",
       "      <th>166</th>\n",
       "      <td>calls_per_hour</td>\n",
       "      <td>2023-08-17 23:00:00+00:00</td>\n",
       "      <td>60.0</td>\n",
       "    </tr>\n",
       "    <tr>\n",
       "      <th>167</th>\n",
       "      <td>calls_per_hour</td>\n",
       "      <td>2023-08-18 00:00:00+00:00</td>\n",
       "      <td>46.0</td>\n",
       "    </tr>\n",
       "  </tbody>\n",
       "</table>\n",
       "<p>168 rows × 3 columns</p>\n",
       "</div>"
      ],
      "text/plain": [
       "          unique_id                        ds  count\n",
       "0    calls_per_hour 2023-08-11 01:00:00+00:00    0.0\n",
       "1    calls_per_hour 2023-08-11 02:00:00+00:00    0.0\n",
       "2    calls_per_hour 2023-08-11 03:00:00+00:00    0.0\n",
       "3    calls_per_hour 2023-08-11 04:00:00+00:00    0.0\n",
       "4    calls_per_hour 2023-08-11 05:00:00+00:00    0.0\n",
       "..              ...                       ...    ...\n",
       "163  calls_per_hour 2023-08-17 20:00:00+00:00    0.0\n",
       "164  calls_per_hour 2023-08-17 21:00:00+00:00    0.0\n",
       "165  calls_per_hour 2023-08-17 22:00:00+00:00   15.0\n",
       "166  calls_per_hour 2023-08-17 23:00:00+00:00   60.0\n",
       "167  calls_per_hour 2023-08-18 00:00:00+00:00   46.0\n",
       "\n",
       "[168 rows x 3 columns]"
      ]
     },
     "execution_count": null,
     "metadata": {},
     "output_type": "execute_result"
    }
   ],
   "source": [
    "data = pd.read_csv('./supabase_helnftllsvskaqzkxyyy_requests_per_hour.csv')\n",
    "data['unique_id'] = 'calls_per_hour'\n",
    "data['ds'] = pd.to_datetime(data['date_trunc'])\n",
    "data = data[['unique_id','ds', 'count']]\n",
    "data = fill_missing_hours(data, 'ds', 'unique_id', data['ds'].max()).reset_index(drop=True)\n",
    "data = data.tail(24*7).reset_index(drop=True)\n",
    "data"
   ]
  },
  {
   "cell_type": "code",
   "execution_count": null,
   "metadata": {},
   "outputs": [
    {
     "data": {
      "text/plain": [
       "Text(0, 0.5, 'Count')"
      ]
     },
     "execution_count": null,
     "metadata": {},
     "output_type": "execute_result"
    },
    {
     "data": {
      "image/png": "[encoded data removed]",
      "text/plain": [
       "<Figure size 1500x600 with 1 Axes>"
      ]
     },
     "metadata": {},
     "output_type": "display_data"
    }
   ],
   "source": [
    "plt.figure(figsize=(15,6))\n",
    "plt.plot(data['ds'], data['count'])\n",
    "plt.grid()\n",
    "plt.xlabel('Date')\n",
    "plt.ylabel('Count')"
   ]
  },
  {
   "cell_type": "code",
   "execution_count": null,
   "metadata": {},
   "outputs": [
    {
     "name": "stdout",
     "output_type": "stream",
     "text": [
      "<class 'pandas.core.frame.DataFrame'>\n",
      "RangeIndex: 168 entries, 0 to 167\n",
      "Data columns (total 3 columns):\n",
      " #   Column     Non-Null Count  Dtype              \n",
      "---  ------     --------------  -----              \n",
      " 0   unique_id  168 non-null    object             \n",
      " 1   ds         168 non-null    datetime64[ns, UTC]\n",
      " 2   count      168 non-null    float64            \n",
      "dtypes: datetime64[ns, UTC](1), float64(1), object(1)\n",
      "memory usage: 4.1+ KB\n"
     ]
    }
   ],
   "source": [
    "data.info()"
   ]
  },
  {
   "cell_type": "code",
   "execution_count": null,
   "metadata": {},
   "outputs": [
    {
     "name": "stderr",
     "output_type": "stream",
     "text": [
      "INFO:nixtlats.timegpt:Happy Forecasting! :), If you have questions or need support, please email ops@nixtla.io\n"
     ]
    },
    {
     "name": "stdout",
     "output_type": "stream",
     "text": [
      "Token validation successful!\n"
     ]
    },
    {
     "name": "stderr",
     "output_type": "stream",
     "text": [
      "INFO:nixtlats.timegpt:Validating inputs...\n",
      "INFO:nixtlats.timegpt:Preprocessing dataframes...\n",
      "INFO:nixtlats.timegpt:Calling Forecast Endpoint...\n"
     ]
    }
   ],
   "source": [
    "import os\n",
    "from nixtlats import TimeGPT\n",
    "\n",
    "# Instantiate the `TimeGPT` class providing your credentials.\n",
    "timegpt = TimeGPT(token=os.environ['TIMEGPT_TOKEN'])\n",
    "\n",
    "# Check you token is valid and has credits to make requests.\n",
    "if timegpt.validate_token():\n",
    "    print(\"Token validation successful!\")\n",
    "else:\n",
    "    raise Exception(\"Token validation failed! Please check go to https://dashboard.nixtla.io/ to get your token.\")\n",
    "\n",
    "# Make a forecast for the next 12 steps (months in this case).\n",
    "timegpt_fcst_df = timegpt.forecast(df=data, freq='H', level=[95], h=24, time_col='ds', target_col='count')\n",
    "timegpt_fcst_df['ds'] = pd.to_datetime(timegpt_fcst_df['ds'])"
   ]
  },
  {
   "cell_type": "code",
   "execution_count": null,
   "metadata": {},
   "outputs": [],
   "source": [
    "from statsforecast import StatsForecast as sf"
   ]
  },
  {
   "cell_type": "code",
   "execution_count": null,
   "metadata": {},
   "outputs": [
    {
     "data": {
      "application/vnd.plotly.v1+json": {
       "config": {
        "plotlyServerURL": "https://plot.ly"
       },
       "data": [
        {
         "legendgroup": "count",
         "line": {
          "color": "#393b79",
          "width": 1
         },
         "mode": "lines",
         "name": "count",
         "showlegend": true,
         "type": "scatter",
         "x": [
          "2023-08-11T01:00:00+00:00",
          "2023-08-11T02:00:00+00:00",
          "2023-08-11T03:00:00+00:00",
          "2023-08-11T04:00:00+00:00",
          "2023-08-11T05:00:00+00:00",
          "2023-08-11T06:00:00+00:00",
          "2023-08-11T07:00:00+00:00",
          "2023-08-11T08:00:00+00:00",
          "2023-08-11T09:00:00+00:00",
          "2023-08-11T10:00:00+00:00",
          "2023-08-11T11:00:00+00:00",
          "2023-08-11T12:00:00+00:00",
          "2023-08-11T13:00:00+00:00",
          "2023-08-11T14:00:00+00:00",
          "2023-08-11T15:00:00+00:00",
          "2023-08-11T16:00:00+00:00",
          "2023-08-11T17:00:00+00:00",
          "2023-08-11T18:00:00+00:00",
          "2023-08-11T19:00:00+00:00",
          "2023-08-11T20:00:00+00:00",
          "2023-08-11T21:00:00+00:00",
          "2023-08-11T22:00:00+00:00",
          "2023-08-11T23:00:00+00:00",
          "2023-08-12T00:00:00+00:00",
          "2023-08-12T01:00:00+00:00",
          "2023-08-12T02:00:00+00:00",
          "2023-08-12T03:00:00+00:00",
          "2023-08-12T04:00:00+00:00",
          "2023-08-12T05:00:00+00:00",
          "2023-08-12T06:00:00+00:00",
          "2023-08-12T07:00:00+00:00",
          "2023-08-12T08:00:00+00:00",
          "2023-08-12T09:00:00+00:00",
          "2023-08-12T10:00:00+00:00",
          "2023-08-12T11:00:00+00:00",
          "2023-08-12T12:00:00+00:00",
          "2023-08-12T13:00:00+00:00",
          "2023-08-12T14:00:00+00:00",
          "2023-08-12T15:00:00+00:00",
          "2023-08-12T16:00:00+00:00",
          "2023-08-12T17:00:00+00:00",
          "2023-08-12T18:00:00+00:00",
          "2023-08-12T19:00:00+00:00",
          "2023-08-12T20:00:00+00:00",
          "2023-08-12T21:00:00+00:00",
          "2023-08-12T22:00:00+00:00",
          "2023-08-12T23:00:00+00:00",
          "2023-08-13T00:00:00+00:00",
          "2023-08-13T01:00:00+00:00",
          "2023-08-13T02:00:00+00:00",
          "2023-08-13T03:00:00+00:00",
          "2023-08-13T04:00:00+00:00",
          "2023-08-13T05:00:00+00:00",
          "2023-08-13T06:00:00+00:00",
          "2023-08-13T07:00:00+00:00",
          "2023-08-13T08:00:00+00:00",
          "2023-08-13T09:00:00+00:00",
          "2023-08-13T10:00:00+00:00",
          "2023-08-13T11:00:00+00:00",
          "2023-08-13T12:00:00+00:00",
          "2023-08-13T13:00:00+00:00",
          "2023-08-13T14:00:00+00:00",
          "2023-08-13T15:00:00+00:00",
          "2023-08-13T16:00:00+00:00",
          "2023-08-13T17:00:00+00:00",
          "2023-08-13T18:00:00+00:00",
          "2023-08-13T19:00:00+00:00",
          "2023-08-13T20:00:00+00:00",
          "2023-08-13T21:00:00+00:00",
          "2023-08-13T22:00:00+00:00",
          "2023-08-13T23:00:00+00:00",
          "2023-08-14T00:00:00+00:00",
          "2023-08-14T01:00:00+00:00",
          "2023-08-14T02:00:00+00:00",
          "2023-08-14T03:00:00+00:00",
          "2023-08-14T04:00:00+00:00",
          "2023-08-14T05:00:00+00:00",
          "2023-08-14T06:00:00+00:00",
          "2023-08-14T07:00:00+00:00",
          "2023-08-14T08:00:00+00:00",
          "2023-08-14T09:00:00+00:00",
          "2023-08-14T10:00:00+00:00",
          "2023-08-14T11:00:00+00:00",
          "2023-08-14T12:00:00+00:00",
          "2023-08-14T13:00:00+00:00",
          "2023-08-14T14:00:00+00:00",
          "2023-08-14T15:00:00+00:00",
          "2023-08-14T16:00:00+00:00",
          "2023-08-14T17:00:00+00:00",
          "2023-08-14T18:00:00+00:00",
          "2023-08-14T19:00:00+00:00",
          "2023-08-14T20:00:00+00:00",
          "2023-08-14T21:00:00+00:00",
          "2023-08-14T22:00:00+00:00",
          "2023-08-14T23:00:00+00:00",
          "2023-08-15T00:00:00+00:00",
          "2023-08-15T01:00:00+00:00",
          "2023-08-15T02:00:00+00:00",
          "2023-08-15T03:00:00+00:00",
          "2023-08-15T04:00:00+00:00",
          "2023-08-15T05:00:00+00:00",
          "2023-08-15T06:00:00+00:00",
          "2023-08-15T07:00:00+00:00",
          "2023-08-15T08:00:00+00:00",
          "2023-08-15T09:00:00+00:00",
          "2023-08-15T10:00:00+00:00",
          "2023-08-15T11:00:00+00:00",
          "2023-08-15T12:00:00+00:00",
          "2023-08-15T13:00:00+00:00",
          "2023-08-15T14:00:00+00:00",
          "2023-08-15T15:00:00+00:00",
          "2023-08-15T16:00:00+00:00",
          "2023-08-15T17:00:00+00:00",
          "2023-08-15T18:00:00+00:00",
          "2023-08-15T19:00:00+00:00",
          "2023-08-15T20:00:00+00:00",
          "2023-08-15T21:00:00+00:00",
          "2023-08-15T22:00:00+00:00",
          "2023-08-15T23:00:00+00:00",
          "2023-08-16T00:00:00+00:00",
          "2023-08-16T01:00:00+00:00",
          "2023-08-16T02:00:00+00:00",
          "2023-08-16T03:00:00+00:00",
          "2023-08-16T04:00:00+00:00",
          "2023-08-16T05:00:00+00:00",
          "2023-08-16T06:00:00+00:00",
          "2023-08-16T07:00:00+00:00",
          "2023-08-16T08:00:00+00:00",
          "2023-08-16T09:00:00+00:00",
          "2023-08-16T10:00:00+00:00",
          "2023-08-16T11:00:00+00:00",
          "2023-08-16T12:00:00+00:00",
          "2023-08-16T13:00:00+00:00",
          "2023-08-16T14:00:00+00:00",
          "2023-08-16T15:00:00+00:00",
          "2023-08-16T16:00:00+00:00",
          "2023-08-16T17:00:00+00:00",
          "2023-08-16T18:00:00+00:00",
          "2023-08-16T19:00:00+00:00",
          "2023-08-16T20:00:00+00:00",
          "2023-08-16T21:00:00+00:00",
          "2023-08-16T22:00:00+00:00",
          "2023-08-16T23:00:00+00:00",
          "2023-08-17T00:00:00+00:00",
          "2023-08-17T01:00:00+00:00",
          "2023-08-17T02:00:00+00:00",
          "2023-08-17T03:00:00+00:00",
          "2023-08-17T04:00:00+00:00",
          "2023-08-17T05:00:00+00:00",
          "2023-08-17T06:00:00+00:00",
          "2023-08-17T07:00:00+00:00",
          "2023-08-17T08:00:00+00:00",
          "2023-08-17T09:00:00+00:00",
          "2023-08-17T10:00:00+00:00",
          "2023-08-17T11:00:00+00:00",
          "2023-08-17T12:00:00+00:00",
          "2023-08-17T13:00:00+00:00",
          "2023-08-17T14:00:00+00:00",
          "2023-08-17T15:00:00+00:00",
          "2023-08-17T16:00:00+00:00",
          "2023-08-17T17:00:00+00:00",
          "2023-08-17T18:00:00+00:00",
          "2023-08-17T19:00:00+00:00",
          "2023-08-17T20:00:00+00:00",
          "2023-08-17T21:00:00+00:00",
          "2023-08-17T22:00:00+00:00",
          "2023-08-17T23:00:00+00:00",
          "2023-08-18T00:00:00+00:00"
         ],
         "xaxis": "x",
         "y": [
          0,
          0,
          0,
          0,
          0,
          0,
          37,
          17,
          0,
          0,
          0,
          0,
          0,
          28,
          0,
          0,
          0,
          0,
          2,
          32,
          48,
          1,
          2,
          4,
          0,
          0,
          0,
          0,
          0,
          0,
          0,
          0,
          0,
          0,
          0,
          0,
          0,
          0,
          0,
          0,
          0,
          0,
          0,
          0,
          0,
          3,
          0,
          14,
          4,
          0,
          0,
          0,
          4,
          0,
          0,
          0,
          0,
          0,
          0,
          0,
          0,
          0,
          0,
          0,
          18,
          4,
          0,
          0,
          0,
          0,
          0,
          0,
          0,
          0,
          0,
          0,
          0,
          0,
          0,
          26,
          0,
          0,
          0,
          0,
          0,
          0,
          0,
          1,
          6,
          6,
          0,
          0,
          0,
          10,
          8,
          0,
          8,
          87,
          0,
          0,
          0,
          0,
          0,
          2,
          0,
          13,
          0,
          0,
          0,
          0,
          148,
          16,
          168,
          1120,
          11,
          18,
          4,
          11,
          1,
          12,
          3,
          1,
          2,
          0,
          0,
          7,
          0,
          0,
          8,
          9,
          3,
          16,
          0,
          3,
          49,
          1362,
          820,
          2274,
          1517,
          2696,
          1413,
          1565,
          386,
          857,
          17,
          0,
          4,
          37,
          43,
          45,
          0,
          0,
          2,
          625,
          479,
          52,
          532,
          1253,
          816,
          1079,
          13,
          3,
          6,
          0,
          0,
          15,
          60,
          46
         ],
         "yaxis": "y"
        },
        {
         "legendgroup": "TimeGPT",
         "line": {
          "color": "#393b79",
          "width": 1
         },
         "mode": "lines",
         "name": "TimeGPT",
         "showlegend": true,
         "type": "scatter",
         "x": [
          "2023-08-18T01:00:00",
          "2023-08-18T02:00:00",
          "2023-08-18T03:00:00",
          "2023-08-18T04:00:00",
          "2023-08-18T05:00:00",
          "2023-08-18T06:00:00",
          "2023-08-18T07:00:00",
          "2023-08-18T08:00:00",
          "2023-08-18T09:00:00",
          "2023-08-18T10:00:00",
          "2023-08-18T11:00:00",
          "2023-08-18T12:00:00",
          "2023-08-18T13:00:00",
          "2023-08-18T14:00:00",
          "2023-08-18T15:00:00",
          "2023-08-18T16:00:00",
          "2023-08-18T17:00:00",
          "2023-08-18T18:00:00",
          "2023-08-18T19:00:00",
          "2023-08-18T20:00:00",
          "2023-08-18T21:00:00",
          "2023-08-18T22:00:00",
          "2023-08-18T23:00:00",
          "2023-08-19T00:00:00"
         ],
         "xaxis": "x",
         "y": [
          89.1583251953125,
          95.66643524169922,
          88.41004943847656,
          111.75577545166016,
          102.07402801513672,
          119.81851959228516,
          135.8963623046875,
          166.61691284179688,
          202.6450958251953,
          236.71031188964844,
          242.32769775390625,
          293.8796691894531,
          320.8256530761719,
          386.7630310058594,
          445.26019287109375,
          503.2880554199219,
          513.43603515625,
          538.232177734375,
          496.4986267089844,
          500.8724060058594,
          452.02679443359375,
          412.16009521484375,
          363.5499572753906,
          324.367431640625
         ],
         "yaxis": "y"
        },
        {
         "fill": "toself",
         "fillcolor": "#393b79",
         "legendgroup": "TimeGPT_level_95",
         "line": {
          "color": "#393b79",
          "width": 1
         },
         "mode": "lines",
         "name": "TimeGPT_level_95",
         "opacity": 0.050000000000000044,
         "showlegend": true,
         "type": "scatter",
         "x": [
          "2023-08-18T01:00:00.000000000",
          "2023-08-18T02:00:00.000000000",
          "2023-08-18T03:00:00.000000000",
          "2023-08-18T04:00:00.000000000",
          "2023-08-18T05:00:00.000000000",
          "2023-08-18T06:00:00.000000000",
          "2023-08-18T07:00:00.000000000",
          "2023-08-18T08:00:00.000000000",
          "2023-08-18T09:00:00.000000000",
          "2023-08-18T10:00:00.000000000",
          "2023-08-18T11:00:00.000000000",
          "2023-08-18T12:00:00.000000000",
          "2023-08-18T13:00:00.000000000",
          "2023-08-18T14:00:00.000000000",
          "2023-08-18T15:00:00.000000000",
          "2023-08-18T16:00:00.000000000",
          "2023-08-18T17:00:00.000000000",
          "2023-08-18T18:00:00.000000000",
          "2023-08-18T19:00:00.000000000",
          "2023-08-18T20:00:00.000000000",
          "2023-08-18T21:00:00.000000000",
          "2023-08-18T22:00:00.000000000",
          "2023-08-18T23:00:00.000000000",
          "2023-08-19T00:00:00.000000000",
          "2023-08-19T00:00:00.000000000",
          "2023-08-18T23:00:00.000000000",
          "2023-08-18T22:00:00.000000000",
          "2023-08-18T21:00:00.000000000",
          "2023-08-18T20:00:00.000000000",
          "2023-08-18T19:00:00.000000000",
          "2023-08-18T18:00:00.000000000",
          "2023-08-18T17:00:00.000000000",
          "2023-08-18T16:00:00.000000000",
          "2023-08-18T15:00:00.000000000",
          "2023-08-18T14:00:00.000000000",
          "2023-08-18T13:00:00.000000000",
          "2023-08-18T12:00:00.000000000",
          "2023-08-18T11:00:00.000000000",
          "2023-08-18T10:00:00.000000000",
          "2023-08-18T09:00:00.000000000",
          "2023-08-18T08:00:00.000000000",
          "2023-08-18T07:00:00.000000000",
          "2023-08-18T06:00:00.000000000",
          "2023-08-18T05:00:00.000000000",
          "2023-08-18T04:00:00.000000000",
          "2023-08-18T03:00:00.000000000",
          "2023-08-18T02:00:00.000000000",
          "2023-08-18T01:00:00.000000000"
         ],
         "xaxis": "x",
         "y": [
          794.154437637329,
          785.4188155651091,
          667.5784768104552,
          618.9232373237609,
          527.0120485305786,
          514.6968889236449,
          525.4272543907165,
          556.6018981456756,
          559.3273404121398,
          464.5065840244293,
          358.70775909423827,
          594.5738062858582,
          469.405109500885,
          1203.0605640411375,
          832.3570598602295,
          1770.3127256393432,
          1271.7299066543578,
          2643.5958776473994,
          1899.761347389221,
          2997.8513861656184,
          1758.270111465454,
          1858.2512956619262,
          714.872453212738,
          1110.272800731659,
          -461.53793745040895,
          12.227461338043213,
          -1033.9311052322387,
          -854.2165225982666,
          -1996.1065741539,
          -906.7640939712525,
          -1567.13152217865,
          -244.8578363418579,
          -763.7366147994995,
          58.163325881958016,
          -429.53450202941895,
          172.24619665145875,
          -6.814467906951901,
          125.94763641357422,
          8.914039754867556,
          -154.03714876174928,
          -223.3680724620819,
          -253.63452978134154,
          -275.0598497390747,
          -322.8639925003052,
          -395.4116864204407,
          -490.7583779335022,
          -594.0859450817109,
          -615.8377872467041
         ],
         "yaxis": "y"
        }
       ],
       "layout": {
        "annotations": [
         {
          "font": {
           "size": 10
          },
          "showarrow": false,
          "text": "calls_per_hour",
          "x": 0.5,
          "xanchor": "center",
          "xref": "paper",
          "y": 1,
          "yanchor": "bottom",
          "yref": "paper"
         },
         {
          "font": {
           "size": 10
          },
          "showarrow": false,
          "text": "Datestamp [ds]",
          "x": 0.5,
          "xanchor": "center",
          "xref": "paper",
          "y": 0,
          "yanchor": "top",
          "yref": "paper",
          "yshift": -30
         },
         {
          "font": {
           "size": 10
          },
          "showarrow": false,
          "text": "Target [y]",
          "textangle": -90,
          "x": 0,
          "xanchor": "right",
          "xref": "paper",
          "xshift": -40,
          "y": 0.5,
          "yanchor": "middle",
          "yref": "paper"
         }
        ],
        "autosize": true,
        "font": {
         "size": 10
        },
        "margin": {
         "b": 50,
         "l": 60,
         "r": 10,
         "t": 20
        },
        "template": {
         "data": {
          "bar": [
           {
            "error_x": {
             "color": "#2a3f5f"
            },
            "error_y": {
             "color": "#2a3f5f"
            },
            "marker": {
             "line": {
              "color": "white",
              "width": 0.5
             },
             "pattern": {
              "fillmode": "overlay",
              "size": 10,
              "solidity": 0.2
             }
            },
            "type": "bar"
           }
          ],
          "barpolar": [
           {
            "marker": {
             "line": {
              "color": "white",
              "width": 0.5
             },
             "pattern": {
              "fillmode": "overlay",
              "size": 10,
              "solidity": 0.2
             }
            },
            "type": "barpolar"
           }
          ],
          "carpet": [
           {
            "aaxis": {
             "endlinecolor": "#2a3f5f",
             "gridcolor": "#C8D4E3",
             "linecolor": "#C8D4E3",
             "minorgridcolor": "#C8D4E3",
             "startlinecolor": "#2a3f5f"
            },
            "baxis": {
             "endlinecolor": "#2a3f5f",
             "gridcolor": "#C8D4E3",
             "linecolor": "#C8D4E3",
             "minorgridcolor": "#C8D4E3",
             "startlinecolor": "#2a3f5f"
            },
            "type": "carpet"
           }
          ],
          "choropleth": [
           {
            "colorbar": {
             "outlinewidth": 0,
             "ticks": ""
            },
            "type": "choropleth"
           }
          ],
          "contour": [
           {
            "colorbar": {
             "outlinewidth": 0,
             "ticks": ""
            },
            "colorscale": [
             [
              0,
              "#0d0887"
             ],
             [
              0.1111111111111111,
              "#46039f"
             ],
             [
              0.2222222222222222,
              "#7201a8"
             ],
             [
              0.3333333333333333,
              "#9c179e"
             ],
             [
              0.4444444444444444,
              "#bd3786"
             ],
             [
              0.5555555555555556,
              "#d8576b"
             ],
             [
              0.6666666666666666,
              "#ed7953"
             ],
             [
              0.7777777777777778,
              "#fb9f3a"
             ],
             [
              0.8888888888888888,
              "#fdca26"
             ],
             [
              1,
              "#f0f921"
             ]
            ],
            "type": "contour"
           }
          ],
          "contourcarpet": [
           {
            "colorbar": {
             "outlinewidth": 0,
             "ticks": ""
            },
            "type": "contourcarpet"
           }
          ],
          "heatmap": [
           {
            "colorbar": {
             "outlinewidth": 0,
             "ticks": ""
            },
            "colorscale": [
             [
              0,
              "#0d0887"
             ],
             [
              0.1111111111111111,
              "#46039f"
             ],
             [
              0.2222222222222222,
              "#7201a8"
             ],
             [
              0.3333333333333333,
              "#9c179e"
             ],
             [
              0.4444444444444444,
              "#bd3786"
             ],
             [
              0.5555555555555556,
              "#d8576b"
             ],
             [
              0.6666666666666666,
              "#ed7953"
             ],
             [
              0.7777777777777778,
              "#fb9f3a"
             ],
             [
              0.8888888888888888,
              "#fdca26"
             ],
             [
              1,
              "#f0f921"
             ]
            ],
            "type": "heatmap"
           }
          ],
          "heatmapgl": [
           {
            "colorbar": {
             "outlinewidth": 0,
             "ticks": ""
            },
            "colorscale": [
             [
              0,
              "#0d0887"
             ],
             [
              0.1111111111111111,
              "#46039f"
             ],
             [
              0.2222222222222222,
              "#7201a8"
             ],
             [
              0.3333333333333333,
              "#9c179e"
             ],
             [
              0.4444444444444444,
              "#bd3786"
             ],
             [
              0.5555555555555556,
              "#d8576b"
             ],
             [
              0.6666666666666666,
              "#ed7953"
             ],
             [
              0.7777777777777778,
              "#fb9f3a"
             ],
             [
              0.8888888888888888,
              "#fdca26"
             ],
             [
              1,
              "#f0f921"
             ]
            ],
            "type": "heatmapgl"
           }
          ],
          "histogram": [
           {
            "marker": {
             "pattern": {
              "fillmode": "overlay",
              "size": 10,
              "solidity": 0.2
             }
            },
            "type": "histogram"
           }
          ],
          "histogram2d": [
           {
            "colorbar": {
             "outlinewidth": 0,
             "ticks": ""
            },
            "colorscale": [
             [
              0,
              "#0d0887"
             ],
             [
              0.1111111111111111,
              "#46039f"
             ],
             [
              0.2222222222222222,
              "#7201a8"
             ],
             [
              0.3333333333333333,
              "#9c179e"
             ],
             [
              0.4444444444444444,
              "#bd3786"
             ],
             [
              0.5555555555555556,
              "#d8576b"
             ],
             [
              0.6666666666666666,
              "#ed7953"
             ],
             [
              0.7777777777777778,
              "#fb9f3a"
             ],
             [
              0.8888888888888888,
              "#fdca26"
             ],
             [
              1,
              "#f0f921"
             ]
            ],
            "type": "histogram2d"
           }
          ],
          "histogram2dcontour": [
           {
            "colorbar": {
             "outlinewidth": 0,
             "ticks": ""
            },
            "colorscale": [
             [
              0,
              "#0d0887"
             ],
             [
              0.1111111111111111,
              "#46039f"
             ],
             [
              0.2222222222222222,
              "#7201a8"
             ],
             [
              0.3333333333333333,
              "#9c179e"
             ],
             [
              0.4444444444444444,
              "#bd3786"
             ],
             [
              0.5555555555555556,
              "#d8576b"
             ],
             [
              0.6666666666666666,
              "#ed7953"
             ],
             [
              0.7777777777777778,
              "#fb9f3a"
             ],
             [
              0.8888888888888888,
              "#fdca26"
             ],
             [
              1,
              "#f0f921"
             ]
            ],
            "type": "histogram2dcontour"
           }
          ],
          "mesh3d": [
           {
            "colorbar": {
             "outlinewidth": 0,
             "ticks": ""
            },
            "type": "mesh3d"
           }
          ],
          "parcoords": [
           {
            "line": {
             "colorbar": {
              "outlinewidth": 0,
              "ticks": ""
             }
            },
            "type": "parcoords"
           }
          ],
          "pie": [
           {
            "automargin": true,
            "type": "pie"
           }
          ],
          "scatter": [
           {
            "fillpattern": {
             "fillmode": "overlay",
             "size": 10,
             "solidity": 0.2
            },
            "type": "scatter"
           }
          ],
          "scatter3d": [
           {
            "line": {
             "colorbar": {
              "outlinewidth": 0,
              "ticks": ""
             }
            },
            "marker": {
             "colorbar": {
              "outlinewidth": 0,
              "ticks": ""
             }
            },
            "type": "scatter3d"
           }
          ],
          "scattercarpet": [
           {
            "marker": {
             "colorbar": {
              "outlinewidth": 0,
              "ticks": ""
             }
            },
            "type": "scattercarpet"
           }
          ],
          "scattergeo": [
           {
            "marker": {
             "colorbar": {
              "outlinewidth": 0,
              "ticks": ""
             }
            },
            "type": "scattergeo"
           }
          ],
          "scattergl": [
           {
            "marker": {
             "colorbar": {
              "outlinewidth": 0,
              "ticks": ""
             }
            },
            "type": "scattergl"
           }
          ],
          "scattermapbox": [
           {
            "marker": {
             "colorbar": {
              "outlinewidth": 0,
              "ticks": ""
             }
            },
            "type": "scattermapbox"
           }
          ],
          "scatterpolar": [
           {
            "marker": {
             "colorbar": {
              "outlinewidth": 0,
              "ticks": ""
             }
            },
            "type": "scatterpolar"
           }
          ],
          "scatterpolargl": [
           {
            "marker": {
             "colorbar": {
              "outlinewidth": 0,
              "ticks": ""
             }
            },
            "type": "scatterpolargl"
           }
          ],
          "scatterternary": [
           {
            "marker": {
             "colorbar": {
              "outlinewidth": 0,
              "ticks": ""
             }
            },
            "type": "scatterternary"
           }
          ],
          "surface": [
           {
            "colorbar": {
             "outlinewidth": 0,
             "ticks": ""
            },
            "colorscale": [
             [
              0,
              "#0d0887"
             ],
             [
              0.1111111111111111,
              "#46039f"
             ],
             [
              0.2222222222222222,
              "#7201a8"
             ],
             [
              0.3333333333333333,
              "#9c179e"
             ],
             [
              0.4444444444444444,
              "#bd3786"
             ],
             [
              0.5555555555555556,
              "#d8576b"
             ],
             [
              0.6666666666666666,
              "#ed7953"
             ],
             [
              0.7777777777777778,
              "#fb9f3a"
             ],
             [
              0.8888888888888888,
              "#fdca26"
             ],
             [
              1,
              "#f0f921"
             ]
            ],
            "type": "surface"
           }
          ],
          "table": [
           {
            "cells": {
             "fill": {
              "color": "#EBF0F8"
             },
             "line": {
              "color": "white"
             }
            },
            "header": {
             "fill": {
              "color": "#C8D4E3"
             },
             "line": {
              "color": "white"
             }
            },
            "type": "table"
           }
          ]
         },
         "layout": {
          "annotationdefaults": {
           "arrowcolor": "#2a3f5f",
           "arrowhead": 0,
           "arrowwidth": 1
          },
          "autotypenumbers": "strict",
          "coloraxis": {
           "colorbar": {
            "outlinewidth": 0,
            "ticks": ""
           }
          },
          "colorscale": {
           "diverging": [
            [
             0,
             "#8e0152"
            ],
            [
             0.1,
             "#c51b7d"
            ],
            [
             0.2,
             "#de77ae"
            ],
            [
             0.3,
             "#f1b6da"
            ],
            [
             0.4,
             "#fde0ef"
            ],
            [
             0.5,
             "#f7f7f7"
            ],
            [
             0.6,
             "#e6f5d0"
            ],
            [
             0.7,
             "#b8e186"
            ],
            [
             0.8,
             "#7fbc41"
            ],
            [
             0.9,
             "#4d9221"
            ],
            [
             1,
             "#276419"
            ]
           ],
           "sequential": [
            [
             0,
             "#0d0887"
            ],
            [
             0.1111111111111111,
             "#46039f"
            ],
            [
             0.2222222222222222,
             "#7201a8"
            ],
            [
             0.3333333333333333,
             "#9c179e"
            ],
            [
             0.4444444444444444,
             "#bd3786"
            ],
            [
             0.5555555555555556,
             "#d8576b"
            ],
            [
             0.6666666666666666,
             "#ed7953"
            ],
            [
             0.7777777777777778,
             "#fb9f3a"
            ],
            [
             0.8888888888888888,
             "#fdca26"
            ],
            [
             1,
             "#f0f921"
            ]
           ],
           "sequentialminus": [
            [
             0,
             "#0d0887"
            ],
            [
             0.1111111111111111,
             "#46039f"
            ],
            [
             0.2222222222222222,
             "#7201a8"
            ],
            [
             0.3333333333333333,
             "#9c179e"
            ],
            [
             0.4444444444444444,
             "#bd3786"
            ],
            [
             0.5555555555555556,
             "#d8576b"
            ],
            [
             0.6666666666666666,
             "#ed7953"
            ],
            [
             0.7777777777777778,
             "#fb9f3a"
            ],
            [
             0.8888888888888888,
             "#fdca26"
            ],
            [
             1,
             "#f0f921"
            ]
           ]
          },
          "colorway": [
           "#636efa",
           "#EF553B",
           "#00cc96",
           "#ab63fa",
           "#FFA15A",
           "#19d3f3",
           "#FF6692",
           "#B6E880",
           "#FF97FF",
           "#FECB52"
          ],
          "font": {
           "color": "#2a3f5f"
          },
          "geo": {
           "bgcolor": "white",
           "lakecolor": "white",
           "landcolor": "white",
           "showlakes": true,
           "showland": true,
           "subunitcolor": "#C8D4E3"
          },
          "hoverlabel": {
           "align": "left"
          },
          "hovermode": "closest",
          "mapbox": {
           "style": "light"
          },
          "paper_bgcolor": "white",
          "plot_bgcolor": "white",
          "polar": {
           "angularaxis": {
            "gridcolor": "#EBF0F8",
            "linecolor": "#EBF0F8",
            "ticks": ""
           },
           "bgcolor": "white",
           "radialaxis": {
            "gridcolor": "#EBF0F8",
            "linecolor": "#EBF0F8",
            "ticks": ""
           }
          },
          "scene": {
           "xaxis": {
            "backgroundcolor": "white",
            "gridcolor": "#DFE8F3",
            "gridwidth": 2,
            "linecolor": "#EBF0F8",
            "showbackground": true,
            "ticks": "",
            "zerolinecolor": "#EBF0F8"
           },
           "yaxis": {
            "backgroundcolor": "white",
            "gridcolor": "#DFE8F3",
            "gridwidth": 2,
            "linecolor": "#EBF0F8",
            "showbackground": true,
            "ticks": "",
            "zerolinecolor": "#EBF0F8"
           },
           "zaxis": {
            "backgroundcolor": "white",
            "gridcolor": "#DFE8F3",
            "gridwidth": 2,
            "linecolor": "#EBF0F8",
            "showbackground": true,
            "ticks": "",
            "zerolinecolor": "#EBF0F8"
           }
          },
          "shapedefaults": {
           "line": {
            "color": "#2a3f5f"
           }
          },
          "ternary": {
           "aaxis": {
            "gridcolor": "#DFE8F3",
            "linecolor": "#A2B1C6",
            "ticks": ""
           },
           "baxis": {
            "gridcolor": "#DFE8F3",
            "linecolor": "#A2B1C6",
            "ticks": ""
           },
           "bgcolor": "white",
           "caxis": {
            "gridcolor": "#DFE8F3",
            "linecolor": "#A2B1C6",
            "ticks": ""
           }
          },
          "title": {
           "x": 0.05
          },
          "xaxis": {
           "automargin": true,
           "gridcolor": "#EBF0F8",
           "linecolor": "#EBF0F8",
           "ticks": "",
           "title": {
            "standoff": 15
           },
           "zerolinecolor": "#EBF0F8",
           "zerolinewidth": 2
          },
          "yaxis": {
           "automargin": true,
           "gridcolor": "#EBF0F8",
           "linecolor": "#EBF0F8",
           "ticks": "",
           "title": {
            "standoff": 15
           },
           "zerolinecolor": "#EBF0F8",
           "zerolinewidth": 2
          }
         }
        },
        "xaxis": {
         "anchor": "y",
         "autorange": true,
         "domain": [
          0,
          1
         ],
         "range": [
          "2023-08-11 01:00",
          "2023-08-19"
         ],
         "showticklabels": true,
         "type": "date",
         "visible": true
        },
        "yaxis": {
         "anchor": "x",
         "autorange": true,
         "domain": [
          0,
          1
         ],
         "range": [
          -2273.54868306054,
          3275.2934950722583
         ],
         "type": "linear"
        }
       }
      },
      "image/png": "[encoded data removed]",
      "text/html": [
       "<div>                            <div id=\"9504374c-a2b8-4fb7-ad91-a2dc3f221c19\" class=\"plotly-graph-div\" style=\"height:150px; width:100%;\"></div>            <script type=\"text/javascript\">                require([\"plotly\"], function(Plotly) {                    window.PLOTLYENV=window.PLOTLYENV || {};                                    if (document.getElementById(\"9504374c-a2b8-4fb7-ad91-a2dc3f221c19\")) {                    Plotly.newPlot(                        \"9504374c-a2b8-4fb7-ad91-a2dc3f221c19\",                        [{\"legendgroup\":\"count\",\"line\":{\"color\":\"#393b79\",\"width\":1},\"mode\":\"lines\",\"name\":\"count\",\"showlegend\":true,\"x\":[\"2023-08-11T01:00:00+00:00\",\"2023-08-11T02:00:00+00:00\",\"2023-08-11T03:00:00+00:00\",\"2023-08-11T04:00:00+00:00\",\"2023-08-11T05:00:00+00:00\",\"2023-08-11T06:00:00+00:00\",\"2023-08-11T07:00:00+00:00\",\"2023-08-11T08:00:00+00:00\",\"2023-08-11T09:00:00+00:00\",\"2023-08-11T10:00:00+00:00\",\"2023-08-11T11:00:00+00:00\",\"2023-08-11T12:00:00+00:00\",\"2023-08-11T13:00:00+00:00\",\"2023-08-11T14:00:00+00:00\",\"2023-08-11T15:00:00+00:00\",\"2023-08-11T16:00:00+00:00\",\"2023-08-11T17:00:00+00:00\",\"2023-08-11T18:00:00+00:00\",\"2023-08-11T19:00:00+00:00\",\"2023-08-11T20:00:00+00:00\",\"2023-08-11T21:00:00+00:00\",\"2023-08-11T22:00:00+00:00\",\"2023-08-11T23:00:00+00:00\",\"2023-08-12T00:00:00+00:00\",\"2023-08-12T01:00:00+00:00\",\"2023-08-12T02:00:00+00:00\",\"2023-08-12T03:00:00+00:00\",\"2023-08-12T04:00:00+00:00\",\"2023-08-12T05:00:00+00:00\",\"2023-08-12T06:00:00+00:00\",\"2023-08-12T07:00:00+00:00\",\"2023-08-12T08:00:00+00:00\",\"2023-08-12T09:00:00+00:00\",\"2023-08-12T10:00:00+00:00\",\"2023-08-12T11:00:00+00:00\",\"2023-08-12T12:00:00+00:00\",\"2023-08-12T13:00:00+00:00\",\"2023-08-12T14:00:00+00:00\",\"2023-08-12T15:00:00+00:00\",\"2023-08-12T16:00:00+00:00\",\"2023-08-12T17:00:00+00:00\",\"2023-08-12T18:00:00+00:00\",\"2023-08-12T19:00:00+00:00\",\"2023-08-12T20:00:00+00:00\",\"2023-08-12T21:00:00+00:00\",\"2023-08-12T22:00:00+00:00\",\"2023-08-12T23:00:00+00:00\",\"2023-08-13T00:00:00+00:00\",\"2023-08-13T01:00:00+00:00\",\"2023-08-13T02:00:00+00:00\",\"2023-08-13T03:00:00+00:00\",\"2023-08-13T04:00:00+00:00\",\"2023-08-13T05:00:00+00:00\",\"2023-08-13T06:00:00+00:00\",\"2023-08-13T07:00:00+00:00\",\"2023-08-13T08:00:00+00:00\",\"2023-08-13T09:00:00+00:00\",\"2023-08-13T10:00:00+00:00\",\"2023-08-13T11:00:00+00:00\",\"2023-08-13T12:00:00+00:00\",\"2023-08-13T13:00:00+00:00\",\"2023-08-13T14:00:00+00:00\",\"2023-08-13T15:00:00+00:00\",\"2023-08-13T16:00:00+00:00\",\"2023-08-13T17:00:00+00:00\",\"2023-08-13T18:00:00+00:00\",\"2023-08-13T19:00:00+00:00\",\"2023-08-13T20:00:00+00:00\",\"2023-08-13T21:00:00+00:00\",\"2023-08-13T22:00:00+00:00\",\"2023-08-13T23:00:00+00:00\",\"2023-08-14T00:00:00+00:00\",\"2023-08-14T01:00:00+00:00\",\"2023-08-14T02:00:00+00:00\",\"2023-08-14T03:00:00+00:00\",\"2023-08-14T04:00:00+00:00\",\"2023-08-14T05:00:00+00:00\",\"2023-08-14T06:00:00+00:00\",\"2023-08-14T07:00:00+00:00\",\"2023-08-14T08:00:00+00:00\",\"2023-08-14T09:00:00+00:00\",\"2023-08-14T10:00:00+00:00\",\"2023-08-14T11:00:00+00:00\",\"2023-08-14T12:00:00+00:00\",\"2023-08-14T13:00:00+00:00\",\"2023-08-14T14:00:00+00:00\",\"2023-08-14T15:00:00+00:00\",\"2023-08-14T16:00:00+00:00\",\"2023-08-14T17:00:00+00:00\",\"2023-08-14T18:00:00+00:00\",\"2023-08-14T19:00:00+00:00\",\"2023-08-14T20:00:00+00:00\",\"2023-08-14T21:00:00+00:00\",\"2023-08-14T22:00:00+00:00\",\"2023-08-14T23:00:00+00:00\",\"2023-08-15T00:00:00+00:00\",\"2023-08-15T01:00:00+00:00\",\"2023-08-15T02:00:00+00:00\",\"2023-08-15T03:00:00+00:00\",\"2023-08-15T04:00:00+00:00\",\"2023-08-15T05:00:00+00:00\",\"2023-08-15T06:00:00+00:00\",\"2023-08-15T07:00:00+00:00\",\"2023-08-15T08:00:00+00:00\",\"2023-08-15T09:00:00+00:00\",\"2023-08-15T10:00:00+00:00\",\"2023-08-15T11:00:00+00:00\",\"2023-08-15T12:00:00+00:00\",\"2023-08-15T13:00:00+00:00\",\"2023-08-15T14:00:00+00:00\",\"2023-08-15T15:00:00+00:00\",\"2023-08-15T16:00:00+00:00\",\"2023-08-15T17:00:00+00:00\",\"2023-08-15T18:00:00+00:00\",\"2023-08-15T19:00:00+00:00\",\"2023-08-15T20:00:00+00:00\",\"2023-08-15T21:00:00+00:00\",\"2023-08-15T22:00:00+00:00\",\"2023-08-15T23:00:00+00:00\",\"2023-08-16T00:00:00+00:00\",\"2023-08-16T01:00:00+00:00\",\"2023-08-16T02:00:00+00:00\",\"2023-08-16T03:00:00+00:00\",\"2023-08-16T04:00:00+00:00\",\"2023-08-16T05:00:00+00:00\",\"2023-08-16T06:00:00+00:00\",\"2023-08-16T07:00:00+00:00\",\"2023-08-16T08:00:00+00:00\",\"2023-08-16T09:00:00+00:00\",\"2023-08-16T10:00:00+00:00\",\"2023-08-16T11:00:00+00:00\",\"2023-08-16T12:00:00+00:00\",\"2023-08-16T13:00:00+00:00\",\"2023-08-16T14:00:00+00:00\",\"2023-08-16T15:00:00+00:00\",\"2023-08-16T16:00:00+00:00\",\"2023-08-16T17:00:00+00:00\",\"2023-08-16T18:00:00+00:00\",\"2023-08-16T19:00:00+00:00\",\"2023-08-16T20:00:00+00:00\",\"2023-08-16T21:00:00+00:00\",\"2023-08-16T22:00:00+00:00\",\"2023-08-16T23:00:00+00:00\",\"2023-08-17T00:00:00+00:00\",\"2023-08-17T01:00:00+00:00\",\"2023-08-17T02:00:00+00:00\",\"2023-08-17T03:00:00+00:00\",\"2023-08-17T04:00:00+00:00\",\"2023-08-17T05:00:00+00:00\",\"2023-08-17T06:00:00+00:00\",\"2023-08-17T07:00:00+00:00\",\"2023-08-17T08:00:00+00:00\",\"2023-08-17T09:00:00+00:00\",\"2023-08-17T10:00:00+00:00\",\"2023-08-17T11:00:00+00:00\",\"2023-08-17T12:00:00+00:00\",\"2023-08-17T13:00:00+00:00\",\"2023-08-17T14:00:00+00:00\",\"2023-08-17T15:00:00+00:00\",\"2023-08-17T16:00:00+00:00\",\"2023-08-17T17:00:00+00:00\",\"2023-08-17T18:00:00+00:00\",\"2023-08-17T19:00:00+00:00\",\"2023-08-17T20:00:00+00:00\",\"2023-08-17T21:00:00+00:00\",\"2023-08-17T22:00:00+00:00\",\"2023-08-17T23:00:00+00:00\",\"2023-08-18T00:00:00+00:00\"],\"y\":[0.0,0.0,0.0,0.0,0.0,0.0,37.0,17.0,0.0,0.0,0.0,0.0,0.0,28.0,0.0,0.0,0.0,0.0,2.0,32.0,48.0,1.0,2.0,4.0,0.0,0.0,0.0,0.0,0.0,0.0,0.0,0.0,0.0,0.0,0.0,0.0,0.0,0.0,0.0,0.0,0.0,0.0,0.0,0.0,0.0,3.0,0.0,14.0,4.0,0.0,0.0,0.0,4.0,0.0,0.0,0.0,0.0,0.0,0.0,0.0,0.0,0.0,0.0,0.0,18.0,4.0,0.0,0.0,0.0,0.0,0.0,0.0,0.0,0.0,0.0,0.0,0.0,0.0,0.0,26.0,0.0,0.0,0.0,0.0,0.0,0.0,0.0,1.0,6.0,6.0,0.0,0.0,0.0,10.0,8.0,0.0,8.0,87.0,0.0,0.0,0.0,0.0,0.0,2.0,0.0,13.0,0.0,0.0,0.0,0.0,148.0,16.0,168.0,1120.0,11.0,18.0,4.0,11.0,1.0,12.0,3.0,1.0,2.0,0.0,0.0,7.0,0.0,0.0,8.0,9.0,3.0,16.0,0.0,3.0,49.0,1362.0,820.0,2274.0,1517.0,2696.0,1413.0,1565.0,386.0,857.0,17.0,0.0,4.0,37.0,43.0,45.0,0.0,0.0,2.0,625.0,479.0,52.0,532.0,1253.0,816.0,1079.0,13.0,3.0,6.0,0.0,0.0,15.0,60.0,46.0],\"type\":\"scatter\",\"xaxis\":\"x\",\"yaxis\":\"y\"},{\"legendgroup\":\"TimeGPT\",\"line\":{\"color\":\"#393b79\",\"width\":1},\"mode\":\"lines\",\"name\":\"TimeGPT\",\"showlegend\":true,\"x\":[\"2023-08-18T01:00:00\",\"2023-08-18T02:00:00\",\"2023-08-18T03:00:00\",\"2023-08-18T04:00:00\",\"2023-08-18T05:00:00\",\"2023-08-18T06:00:00\",\"2023-08-18T07:00:00\",\"2023-08-18T08:00:00\",\"2023-08-18T09:00:00\",\"2023-08-18T10:00:00\",\"2023-08-18T11:00:00\",\"2023-08-18T12:00:00\",\"2023-08-18T13:00:00\",\"2023-08-18T14:00:00\",\"2023-08-18T15:00:00\",\"2023-08-18T16:00:00\",\"2023-08-18T17:00:00\",\"2023-08-18T18:00:00\",\"2023-08-18T19:00:00\",\"2023-08-18T20:00:00\",\"2023-08-18T21:00:00\",\"2023-08-18T22:00:00\",\"2023-08-18T23:00:00\",\"2023-08-19T00:00:00\"],\"y\":[89.1583251953125,95.66643524169922,88.41004943847656,111.75577545166016,102.07402801513672,119.81851959228516,135.8963623046875,166.61691284179688,202.6450958251953,236.71031188964844,242.32769775390625,293.8796691894531,320.8256530761719,386.7630310058594,445.26019287109375,503.2880554199219,513.43603515625,538.232177734375,496.4986267089844,500.8724060058594,452.02679443359375,412.16009521484375,363.5499572753906,324.367431640625],\"type\":\"scatter\",\"xaxis\":\"x\",\"yaxis\":\"y\"},{\"fill\":\"toself\",\"fillcolor\":\"#393b79\",\"legendgroup\":\"TimeGPT_level_95\",\"line\":{\"color\":\"#393b79\",\"width\":1},\"mode\":\"lines\",\"name\":\"TimeGPT_level_95\",\"opacity\":0.050000000000000044,\"showlegend\":true,\"x\":[\"2023-08-18T01:00:00.000000000\",\"2023-08-18T02:00:00.000000000\",\"2023-08-18T03:00:00.000000000\",\"2023-08-18T04:00:00.000000000\",\"2023-08-18T05:00:00.000000000\",\"2023-08-18T06:00:00.000000000\",\"2023-08-18T07:00:00.000000000\",\"2023-08-18T08:00:00.000000000\",\"2023-08-18T09:00:00.000000000\",\"2023-08-18T10:00:00.000000000\",\"2023-08-18T11:00:00.000000000\",\"2023-08-18T12:00:00.000000000\",\"2023-08-18T13:00:00.000000000\",\"2023-08-18T14:00:00.000000000\",\"2023-08-18T15:00:00.000000000\",\"2023-08-18T16:00:00.000000000\",\"2023-08-18T17:00:00.000000000\",\"2023-08-18T18:00:00.000000000\",\"2023-08-18T19:00:00.000000000\",\"2023-08-18T20:00:00.000000000\",\"2023-08-18T21:00:00.000000000\",\"2023-08-18T22:00:00.000000000\",\"2023-08-18T23:00:00.000000000\",\"2023-08-19T00:00:00.000000000\",\"2023-08-19T00:00:00.000000000\",\"2023-08-18T23:00:00.000000000\",\"2023-08-18T22:00:00.000000000\",\"2023-08-18T21:00:00.000000000\",\"2023-08-18T20:00:00.000000000\",\"2023-08-18T19:00:00.000000000\",\"2023-08-18T18:00:00.000000000\",\"2023-08-18T17:00:00.000000000\",\"2023-08-18T16:00:00.000000000\",\"2023-08-18T15:00:00.000000000\",\"2023-08-18T14:00:00.000000000\",\"2023-08-18T13:00:00.000000000\",\"2023-08-18T12:00:00.000000000\",\"2023-08-18T11:00:00.000000000\",\"2023-08-18T10:00:00.000000000\",\"2023-08-18T09:00:00.000000000\",\"2023-08-18T08:00:00.000000000\",\"2023-08-18T07:00:00.000000000\",\"2023-08-18T06:00:00.000000000\",\"2023-08-18T05:00:00.000000000\",\"2023-08-18T04:00:00.000000000\",\"2023-08-18T03:00:00.000000000\",\"2023-08-18T02:00:00.000000000\",\"2023-08-18T01:00:00.000000000\"],\"y\":[794.154437637329,785.4188155651091,667.5784768104552,618.9232373237609,527.0120485305786,514.6968889236449,525.4272543907165,556.6018981456756,559.3273404121398,464.5065840244293,358.70775909423827,594.5738062858582,469.405109500885,1203.0605640411375,832.3570598602295,1770.3127256393432,1271.7299066543578,2643.5958776473994,1899.761347389221,2997.8513861656184,1758.270111465454,1858.2512956619262,714.872453212738,1110.272800731659,-461.53793745040895,12.227461338043213,-1033.9311052322387,-854.2165225982666,-1996.1065741539,-906.7640939712525,-1567.13152217865,-244.8578363418579,-763.7366147994995,58.163325881958016,-429.53450202941895,172.24619665145875,-6.814467906951901,125.94763641357422,8.914039754867556,-154.03714876174928,-223.3680724620819,-253.63452978134154,-275.0598497390747,-322.8639925003052,-395.4116864204407,-490.7583779335022,-594.0859450817109,-615.8377872467041],\"type\":\"scatter\",\"xaxis\":\"x\",\"yaxis\":\"y\"}],                        {\"template\":{\"data\":{\"barpolar\":[{\"marker\":{\"line\":{\"color\":\"white\",\"width\":0.5},\"pattern\":{\"fillmode\":\"overlay\",\"size\":10,\"solidity\":0.2}},\"type\":\"barpolar\"}],\"bar\":[{\"error_x\":{\"color\":\"#2a3f5f\"},\"error_y\":{\"color\":\"#2a3f5f\"},\"marker\":{\"line\":{\"color\":\"white\",\"width\":0.5},\"pattern\":{\"fillmode\":\"overlay\",\"size\":10,\"solidity\":0.2}},\"type\":\"bar\"}],\"carpet\":[{\"aaxis\":{\"endlinecolor\":\"#2a3f5f\",\"gridcolor\":\"#C8D4E3\",\"linecolor\":\"#C8D4E3\",\"minorgridcolor\":\"#C8D4E3\",\"startlinecolor\":\"#2a3f5f\"},\"baxis\":{\"endlinecolor\":\"#2a3f5f\",\"gridcolor\":\"#C8D4E3\",\"linecolor\":\"#C8D4E3\",\"minorgridcolor\":\"#C8D4E3\",\"startlinecolor\":\"#2a3f5f\"},\"type\":\"carpet\"}],\"choropleth\":[{\"colorbar\":{\"outlinewidth\":0,\"ticks\":\"\"},\"type\":\"choropleth\"}],\"contourcarpet\":[{\"colorbar\":{\"outlinewidth\":0,\"ticks\":\"\"},\"type\":\"contourcarpet\"}],\"contour\":[{\"colorbar\":{\"outlinewidth\":0,\"ticks\":\"\"},\"colorscale\":[[0.0,\"#0d0887\"],[0.1111111111111111,\"#46039f\"],[0.2222222222222222,\"#7201a8\"],[0.3333333333333333,\"#9c179e\"],[0.4444444444444444,\"#bd3786\"],[0.5555555555555556,\"#d8576b\"],[0.6666666666666666,\"#ed7953\"],[0.7777777777777778,\"#fb9f3a\"],[0.8888888888888888,\"#fdca26\"],[1.0,\"#f0f921\"]],\"type\":\"contour\"}],\"heatmapgl\":[{\"colorbar\":{\"outlinewidth\":0,\"ticks\":\"\"},\"colorscale\":[[0.0,\"#0d0887\"],[0.1111111111111111,\"#46039f\"],[0.2222222222222222,\"#7201a8\"],[0.3333333333333333,\"#9c179e\"],[0.4444444444444444,\"#bd3786\"],[0.5555555555555556,\"#d8576b\"],[0.6666666666666666,\"#ed7953\"],[0.7777777777777778,\"#fb9f3a\"],[0.8888888888888888,\"#fdca26\"],[1.0,\"#f0f921\"]],\"type\":\"heatmapgl\"}],\"heatmap\":[{\"colorbar\":{\"outlinewidth\":0,\"ticks\":\"\"},\"colorscale\":[[0.0,\"#0d0887\"],[0.1111111111111111,\"#46039f\"],[0.2222222222222222,\"#7201a8\"],[0.3333333333333333,\"#9c179e\"],[0.4444444444444444,\"#bd3786\"],[0.5555555555555556,\"#d8576b\"],[0.6666666666666666,\"#ed7953\"],[0.7777777777777778,\"#fb9f3a\"],[0.8888888888888888,\"#fdca26\"],[1.0,\"#f0f921\"]],\"type\":\"heatmap\"}],\"histogram2dcontour\":[{\"colorbar\":{\"outlinewidth\":0,\"ticks\":\"\"},\"colorscale\":[[0.0,\"#0d0887\"],[0.1111111111111111,\"#46039f\"],[0.2222222222222222,\"#7201a8\"],[0.3333333333333333,\"#9c179e\"],[0.4444444444444444,\"#bd3786\"],[0.5555555555555556,\"#d8576b\"],[0.6666666666666666,\"#ed7953\"],[0.7777777777777778,\"#fb9f3a\"],[0.8888888888888888,\"#fdca26\"],[1.0,\"#f0f921\"]],\"type\":\"histogram2dcontour\"}],\"histogram2d\":[{\"colorbar\":{\"outlinewidth\":0,\"ticks\":\"\"},\"colorscale\":[[0.0,\"#0d0887\"],[0.1111111111111111,\"#46039f\"],[0.2222222222222222,\"#7201a8\"],[0.3333333333333333,\"#9c179e\"],[0.4444444444444444,\"#bd3786\"],[0.5555555555555556,\"#d8576b\"],[0.6666666666666666,\"#ed7953\"],[0.7777777777777778,\"#fb9f3a\"],[0.8888888888888888,\"#fdca26\"],[1.0,\"#f0f921\"]],\"type\":\"histogram2d\"}],\"histogram\":[{\"marker\":{\"pattern\":{\"fillmode\":\"overlay\",\"size\":10,\"solidity\":0.2}},\"type\":\"histogram\"}],\"mesh3d\":[{\"colorbar\":{\"outlinewidth\":0,\"ticks\":\"\"},\"type\":\"mesh3d\"}],\"parcoords\":[{\"line\":{\"colorbar\":{\"outlinewidth\":0,\"ticks\":\"\"}},\"type\":\"parcoords\"}],\"pie\":[{\"automargin\":true,\"type\":\"pie\"}],\"scatter3d\":[{\"line\":{\"colorbar\":{\"outlinewidth\":0,\"ticks\":\"\"}},\"marker\":{\"colorbar\":{\"outlinewidth\":0,\"ticks\":\"\"}},\"type\":\"scatter3d\"}],\"scattercarpet\":[{\"marker\":{\"colorbar\":{\"outlinewidth\":0,\"ticks\":\"\"}},\"type\":\"scattercarpet\"}],\"scattergeo\":[{\"marker\":{\"colorbar\":{\"outlinewidth\":0,\"ticks\":\"\"}},\"type\":\"scattergeo\"}],\"scattergl\":[{\"marker\":{\"colorbar\":{\"outlinewidth\":0,\"ticks\":\"\"}},\"type\":\"scattergl\"}],\"scattermapbox\":[{\"marker\":{\"colorbar\":{\"outlinewidth\":0,\"ticks\":\"\"}},\"type\":\"scattermapbox\"}],\"scatterpolargl\":[{\"marker\":{\"colorbar\":{\"outlinewidth\":0,\"ticks\":\"\"}},\"type\":\"scatterpolargl\"}],\"scatterpolar\":[{\"marker\":{\"colorbar\":{\"outlinewidth\":0,\"ticks\":\"\"}},\"type\":\"scatterpolar\"}],\"scatter\":[{\"fillpattern\":{\"fillmode\":\"overlay\",\"size\":10,\"solidity\":0.2},\"type\":\"scatter\"}],\"scatterternary\":[{\"marker\":{\"colorbar\":{\"outlinewidth\":0,\"ticks\":\"\"}},\"type\":\"scatterternary\"}],\"surface\":[{\"colorbar\":{\"outlinewidth\":0,\"ticks\":\"\"},\"colorscale\":[[0.0,\"#0d0887\"],[0.1111111111111111,\"#46039f\"],[0.2222222222222222,\"#7201a8\"],[0.3333333333333333,\"#9c179e\"],[0.4444444444444444,\"#bd3786\"],[0.5555555555555556,\"#d8576b\"],[0.6666666666666666,\"#ed7953\"],[0.7777777777777778,\"#fb9f3a\"],[0.8888888888888888,\"#fdca26\"],[1.0,\"#f0f921\"]],\"type\":\"surface\"}],\"table\":[{\"cells\":{\"fill\":{\"color\":\"#EBF0F8\"},\"line\":{\"color\":\"white\"}},\"header\":{\"fill\":{\"color\":\"#C8D4E3\"},\"line\":{\"color\":\"white\"}},\"type\":\"table\"}]},\"layout\":{\"annotationdefaults\":{\"arrowcolor\":\"#2a3f5f\",\"arrowhead\":0,\"arrowwidth\":1},\"autotypenumbers\":\"strict\",\"coloraxis\":{\"colorbar\":{\"outlinewidth\":0,\"ticks\":\"\"}},\"colorscale\":{\"diverging\":[[0,\"#8e0152\"],[0.1,\"#c51b7d\"],[0.2,\"#de77ae\"],[0.3,\"#f1b6da\"],[0.4,\"#fde0ef\"],[0.5,\"#f7f7f7\"],[0.6,\"#e6f5d0\"],[0.7,\"#b8e186\"],[0.8,\"#7fbc41\"],[0.9,\"#4d9221\"],[1,\"#276419\"]],\"sequential\":[[0.0,\"#0d0887\"],[0.1111111111111111,\"#46039f\"],[0.2222222222222222,\"#7201a8\"],[0.3333333333333333,\"#9c179e\"],[0.4444444444444444,\"#bd3786\"],[0.5555555555555556,\"#d8576b\"],[0.6666666666666666,\"#ed7953\"],[0.7777777777777778,\"#fb9f3a\"],[0.8888888888888888,\"#fdca26\"],[1.0,\"#f0f921\"]],\"sequentialminus\":[[0.0,\"#0d0887\"],[0.1111111111111111,\"#46039f\"],[0.2222222222222222,\"#7201a8\"],[0.3333333333333333,\"#9c179e\"],[0.4444444444444444,\"#bd3786\"],[0.5555555555555556,\"#d8576b\"],[0.6666666666666666,\"#ed7953\"],[0.7777777777777778,\"#fb9f3a\"],[0.8888888888888888,\"#fdca26\"],[1.0,\"#f0f921\"]]},\"colorway\":[\"#636efa\",\"#EF553B\",\"#00cc96\",\"#ab63fa\",\"#FFA15A\",\"#19d3f3\",\"#FF6692\",\"#B6E880\",\"#FF97FF\",\"#FECB52\"],\"font\":{\"color\":\"#2a3f5f\"},\"geo\":{\"bgcolor\":\"white\",\"lakecolor\":\"white\",\"landcolor\":\"white\",\"showlakes\":true,\"showland\":true,\"subunitcolor\":\"#C8D4E3\"},\"hoverlabel\":{\"align\":\"left\"},\"hovermode\":\"closest\",\"mapbox\":{\"style\":\"light\"},\"paper_bgcolor\":\"white\",\"plot_bgcolor\":\"white\",\"polar\":{\"angularaxis\":{\"gridcolor\":\"#EBF0F8\",\"linecolor\":\"#EBF0F8\",\"ticks\":\"\"},\"bgcolor\":\"white\",\"radialaxis\":{\"gridcolor\":\"#EBF0F8\",\"linecolor\":\"#EBF0F8\",\"ticks\":\"\"}},\"scene\":{\"xaxis\":{\"backgroundcolor\":\"white\",\"gridcolor\":\"#DFE8F3\",\"gridwidth\":2,\"linecolor\":\"#EBF0F8\",\"showbackground\":true,\"ticks\":\"\",\"zerolinecolor\":\"#EBF0F8\"},\"yaxis\":{\"backgroundcolor\":\"white\",\"gridcolor\":\"#DFE8F3\",\"gridwidth\":2,\"linecolor\":\"#EBF0F8\",\"showbackground\":true,\"ticks\":\"\",\"zerolinecolor\":\"#EBF0F8\"},\"zaxis\":{\"backgroundcolor\":\"white\",\"gridcolor\":\"#DFE8F3\",\"gridwidth\":2,\"linecolor\":\"#EBF0F8\",\"showbackground\":true,\"ticks\":\"\",\"zerolinecolor\":\"#EBF0F8\"}},\"shapedefaults\":{\"line\":{\"color\":\"#2a3f5f\"}},\"ternary\":{\"aaxis\":{\"gridcolor\":\"#DFE8F3\",\"linecolor\":\"#A2B1C6\",\"ticks\":\"\"},\"baxis\":{\"gridcolor\":\"#DFE8F3\",\"linecolor\":\"#A2B1C6\",\"ticks\":\"\"},\"bgcolor\":\"white\",\"caxis\":{\"gridcolor\":\"#DFE8F3\",\"linecolor\":\"#A2B1C6\",\"ticks\":\"\"}},\"title\":{\"x\":0.05},\"xaxis\":{\"automargin\":true,\"gridcolor\":\"#EBF0F8\",\"linecolor\":\"#EBF0F8\",\"ticks\":\"\",\"title\":{\"standoff\":15},\"zerolinecolor\":\"#EBF0F8\",\"zerolinewidth\":2},\"yaxis\":{\"automargin\":true,\"gridcolor\":\"#EBF0F8\",\"linecolor\":\"#EBF0F8\",\"ticks\":\"\",\"title\":{\"standoff\":15},\"zerolinecolor\":\"#EBF0F8\",\"zerolinewidth\":2}}},\"xaxis\":{\"anchor\":\"y\",\"domain\":[0.0,1.0],\"showticklabels\":true,\"visible\":true},\"yaxis\":{\"anchor\":\"x\",\"domain\":[0.0,1.0]},\"annotations\":[{\"font\":{\"size\":10},\"showarrow\":false,\"text\":\"calls_per_hour\",\"x\":0.5,\"xanchor\":\"center\",\"xref\":\"paper\",\"y\":1.0,\"yanchor\":\"bottom\",\"yref\":\"paper\"},{\"font\":{\"size\":10},\"showarrow\":false,\"text\":\"Datestamp [ds]\",\"x\":0.5,\"xanchor\":\"center\",\"xref\":\"paper\",\"y\":0,\"yanchor\":\"top\",\"yref\":\"paper\",\"yshift\":-30},{\"font\":{\"size\":10},\"showarrow\":false,\"text\":\"Target [y]\",\"textangle\":-90,\"x\":0,\"xanchor\":\"right\",\"xref\":\"paper\",\"xshift\":-40,\"y\":0.5,\"yanchor\":\"middle\",\"yref\":\"paper\"}],\"margin\":{\"l\":60,\"r\":10,\"t\":20,\"b\":50},\"font\":{\"size\":10},\"autosize\":true,\"height\":150},                        {\"responsive\": true}                    ).then(function(){\n",
       "                            \n",
       "var gd = document.getElementById('9504374c-a2b8-4fb7-ad91-a2dc3f221c19');\n",
       "var x = new MutationObserver(function (mutations, observer) {{\n",
       "        var display = window.getComputedStyle(gd).display;\n",
       "        if (!display || display === 'none') {{\n",
       "            console.log([gd, 'removed!']);\n",
       "            Plotly.purge(gd);\n",
       "            observer.disconnect();\n",
       "        }}\n",
       "}});\n",
       "\n",
       "// Listen for the removal of the full notebook cells\n",
       "var notebookContainer = gd.closest('#notebook-container');\n",
       "if (notebookContainer) {{\n",
       "    x.observe(notebookContainer, {childList: true});\n",
       "}}\n",
       "\n",
       "// Listen for the clearing of the current output cell\n",
       "var outputEl = gd.closest('.output');\n",
       "if (outputEl) {{\n",
       "    x.observe(outputEl, {childList: true});\n",
       "}}\n",
       "\n",
       "                        })                };                });            </script>        </div>"
      ]
     },
     "metadata": {},
     "output_type": "display_data"
    }
   ],
   "source": [
    "sf.plot(df=data, forecasts_df=timegpt_fcst_df)"
   ]
  },
  {
   "cell_type": "code",
   "execution_count": null,
   "metadata": {},
   "outputs": [
    {
     "data": {
      "text/plain": [
       "Text(0, 0.5, 'Count')"
      ]
     },
     "execution_count": null,
     "metadata": {},
     "output_type": "execute_result"
    },
    {
     "data": {
      "image/png": "[encoded data removed]",
      "text/plain": [
       "<Figure size 1500x600 with 1 Axes>"
      ]
     },
     "metadata": {},
     "output_type": "display_data"
    }
   ],
   "source": [
    "plt.figure(figsize=(15,6))\n",
    "plt.plot(data['ds'], data['count'])\n",
    "plt.plot(timegpt_fcst_df['ds'], timegpt_fcst_df['TimeGPT'])\n",
    "plt.grid()\n",
    "plt.xlabel('Date')\n",
    "plt.ylabel('Count')"
   ]
  },
  {
   "cell_type": "code",
   "execution_count": null,
   "metadata": {},
   "outputs": [],
   "source": []
  }
 ],
 "metadata": {
  "kernelspec": {
   "display_name": "python3",
   "language": "python",
   "name": "python3"
  }
 },
 "nbformat": 4,
 "nbformat_minor": 4
}
