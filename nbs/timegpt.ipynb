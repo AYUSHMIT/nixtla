{
 "cells": [
  {
   "cell_type": "markdown",
   "metadata": {},
   "source": [
    "# TimeGPT\n",
    "\n",
    "> Unlock the power of accurate predictions and confidently navigate uncertainty. Reduce uncertainty and resource limitations. With TimeGPT, you can effortlessly access state-of-the-art models to make data-driven decisions. Whether you're a bank forecasting market trends or a startup predicting product demand, TimeGPT democratizes access to cutting-edge predictive insights, eliminating the need for a dedicated team of machine learning engineers."
   ]
  },
  {
   "cell_type": "code",
   "execution_count": null,
   "metadata": {},
   "outputs": [],
   "source": [
    "#| default_exp timegpt"
   ]
  },
  {
   "cell_type": "code",
   "execution_count": null,
   "metadata": {},
   "outputs": [
    {
     "name": "stdout",
     "output_type": "stream",
     "text": [
      "The autoreload extension is already loaded. To reload it, use:\n",
      "  %reload_ext autoreload\n"
     ]
    }
   ],
   "source": [
    "#| hide \n",
    "%load_ext autoreload\n",
    "%autoreload 2"
   ]
  },
  {
   "cell_type": "code",
   "execution_count": null,
   "metadata": {},
   "outputs": [],
   "source": [
    "#| export\n",
    "import json\n",
    "import requests\n",
    "from typing import Dict, List, Optional\n",
    "\n",
    "import pandas as pd"
   ]
  },
  {
   "cell_type": "code",
   "execution_count": null,
   "metadata": {},
   "outputs": [
    {
     "data": {
      "text/plain": [
       "True"
      ]
     },
     "execution_count": null,
     "metadata": {},
     "output_type": "execute_result"
    }
   ],
   "source": [
    "#| hide\n",
    "import os\n",
    "\n",
    "from dotenv import load_dotenv\n",
    "from fastcore.test import test_eq, test_fail\n",
    "from nbdev.showdoc import show_doc\n",
    "\n",
    "load_dotenv()"
   ]
  },
  {
   "cell_type": "code",
   "execution_count": null,
   "metadata": {},
   "outputs": [],
   "source": [
    "#| export\n",
    "class TimeGPT:\n",
    "    \"\"\"\n",
    "    A class used to interact with the TimeGPT API.\n",
    "    \"\"\"\n",
    "\n",
    "    def __init__(self, token: str, api_url: str):\n",
    "        \"\"\"\n",
    "        Constructs all the necessary attributes for the TimeGPT object.\n",
    "\n",
    "        Parameters\n",
    "        ----------\n",
    "        token : str\n",
    "            The authorization token to interact with the TimeGPT API.\n",
    "        api_url : str\n",
    "            The base URL for the TimeGPT API.\n",
    "        \"\"\"\n",
    "        self.token = token\n",
    "        self.api_url = api_url\n",
    "\n",
    "    @property\n",
    "    def request_headers(self):\n",
    "        headers = {\n",
    "            \"accept\": \"application/json\",\n",
    "            \"content-type\": \"application/json\",\n",
    "            \"authorization\": f\"Bearer {self.token}\"\n",
    "        }\n",
    "        return headers\n",
    "        \n",
    "    def _parse_response(self, response: str) -> Dict:\n",
    "        \"\"\"Parses responde.\"\"\"\n",
    "        try:\n",
    "            resp = json.loads(response)\n",
    "        except Exception as e:\n",
    "            raise Exception(response)\n",
    "        return resp\n",
    "\n",
    "    def _input_size(self, freq: str):\n",
    "        response_input_size = requests.post(\n",
    "            f'{self.api_url}/timegpt_input_size',\n",
    "            json={'freq': freq}, \n",
    "            headers=self.request_headers,\n",
    "        )\n",
    "        response_input_size = self._parse_response(response_input_size.text)\n",
    "        return response_input_size['data']\n",
    "\n",
    "    def _preprocess_inputs(\n",
    "            self, \n",
    "            df: pd.DataFrame, \n",
    "            X_df: Optional[pd.DataFrame] = None,\n",
    "        ):\n",
    "        y_cols = ['unique_id', 'ds', 'y']\n",
    "        y = df[y_cols].to_dict(orient='split', index=False)\n",
    "        x_cols = df.drop(columns='y').columns\n",
    "        if dict(x_cols) - dict(y_cols):\n",
    "            x = pd.concat([df[x_cols], X_df]).sort_values(['unique_id', 'ds'])\n",
    "            x = x.to_dict(orient='split', index=False)\n",
    "        else:\n",
    "            x = None\n",
    "        return y, x\n",
    "\n",
    "    def forecast(\n",
    "            self,\n",
    "            df: pd.DataFrame,\n",
    "            h: int,\n",
    "            freq: str,\n",
    "            X_df: Optional[pd.DataFrame] = None,\n",
    "            level: Optional[List[int]] = None,\n",
    "            finetune_steps: int = 0,\n",
    "            clean_ex_first: bool = True,\n",
    "        ):\n",
    "        \"\"\"Forecast your time series using TimeGPT.\n",
    "\n",
    "        Parameters\n",
    "        ----------\n",
    "        df : pandas.DataFrame\n",
    "            DataFrame with columns [`unique_id`, `ds`, `y`] and exogenous.\n",
    "            If None, the `StatsForecast` class should have been instantiated\n",
    "            using `df`.\n",
    "        h : int\n",
    "            Forecast horizon.\n",
    "        freq : str\n",
    "            Frequency of the data.\n",
    "            See [pandas' available frequencies](https://pandas.pydata.org/pandas-docs/stable/user_guide/timeseries.html#offset-aliases).\n",
    "        X_df : pandas.DataFrame, optional (default=None)\n",
    "            DataFrame with [`unique_id`, `ds`] columns and `df`'s future exogenous.\n",
    "        level : List[float], optional (default=None)\n",
    "            Confidence levels between 0 and 100 for prediction intervals.\n",
    "        finetune_steps : int (default=0)\n",
    "            Number of steps used to finetune TimeGPT in the\n",
    "            new data.\n",
    "        clean_ex_first : bool (default=True)\n",
    "            Clean exogenous signal before making forecasts\n",
    "            using TimeGPT.\n",
    "        \n",
    "        Returns\n",
    "        -------\n",
    "        fcsts_df : pandas.DataFrame\n",
    "            DataFrame with TimeGPT forecasts for point predictions and probabilistic\n",
    "            predictions (if level is not None).\n",
    "        \"\"\"\n",
    "        pass"
   ]
  },
  {
   "cell_type": "code",
   "execution_count": null,
   "metadata": {},
   "outputs": [
    {
     "data": {
      "text/markdown": [
       "---\n",
       "\n",
       "# TimeGPT\n",
       "\n",
       ">      TimeGPT (token:str, api_url:str)\n",
       "\n",
       "Constructs all the necessary attributes for the TimeGPT object.\n",
       "\n",
       "|    | **Type** | **Details** |\n",
       "| -- | -------- | ----------- |\n",
       "| token | str | The authorization token to interact with the TimeGPT API. |\n",
       "| api_url | str | The base URL for the TimeGPT API. |"
      ],
      "text/plain": [
       "---\n",
       "\n",
       "# TimeGPT\n",
       "\n",
       ">      TimeGPT (token:str, api_url:str)\n",
       "\n",
       "Constructs all the necessary attributes for the TimeGPT object.\n",
       "\n",
       "|    | **Type** | **Details** |\n",
       "| -- | -------- | ----------- |\n",
       "| token | str | The authorization token to interact with the TimeGPT API. |\n",
       "| api_url | str | The base URL for the TimeGPT API. |"
      ]
     },
     "execution_count": null,
     "metadata": {},
     "output_type": "execute_result"
    }
   ],
   "source": [
    "show_doc(TimeGPT.__init__, title_level=1, name='TimeGPT')"
   ]
  },
  {
   "cell_type": "markdown",
   "metadata": {},
   "source": [
    "You can instantiate the `TimeGPT` class providing your credentials."
   ]
  },
  {
   "cell_type": "code",
   "execution_count": null,
   "metadata": {},
   "outputs": [],
   "source": [
    "timegpt = TimeGPT(\n",
    "    token=os.environ['TIMEGPT_TOKEN'],\n",
    "    api_url=os.environ['TIMEGPT_API_URL'],\n",
    ")"
   ]
  },
  {
   "cell_type": "code",
   "execution_count": null,
   "metadata": {},
   "outputs": [],
   "source": [
    "#| hide\n",
    "# test input_size\n",
    "test_eq(\n",
    "    timegpt._input_size('D'),\n",
    "    28,\n",
    ")"
   ]
  },
  {
   "cell_type": "code",
   "execution_count": null,
   "metadata": {},
   "outputs": [
    {
     "data": {
      "text/markdown": [
       "---\n",
       "\n",
       "## TimeGPT.forecast\n",
       "\n",
       ">      TimeGPT.forecast (h:int, df:pandas.core.frame.DataFrame,\n",
       ">                        X_df:Optional[pandas.core.frame.DataFrame]=None,\n",
       ">                        level:Optional[List[int]]=None, finetune_steps:int=0,\n",
       ">                        clean_ex_first:bool=True)\n",
       "\n",
       "Forecast your time series using TimeGPT.\n",
       "\n",
       "|    | **Type** | **Default** | **Details** |\n",
       "| -- | -------- | ----------- | ----------- |\n",
       "| h | int |  | Forecast horizon. |\n",
       "| df | DataFrame |  | DataFrame with columns [`unique_id`, `ds`, `y`] and exogenous.<br>If None, the `StatsForecast` class should have been instantiated<br>using `df`. |\n",
       "| X_df | Optional | None | DataFrame with [`unique_id`, `ds`] columns and `df`'s future exogenous. |\n",
       "| level | Optional | None | Confidence levels between 0 and 100 for prediction intervals. |\n",
       "| finetune_steps | int | 0 | Number of steps used to finetune TimeGPT in the<br>new data. |\n",
       "| clean_ex_first | bool | True | Clean exogenous signal before making forecasts<br>using TimeGPT. |\n",
       "| **Returns** | **pandas.DataFrame** |  | **DataFrame with TimeGPT forecasts for point predictions and probabilistic<br>predictions (if level is not None).** |"
      ],
      "text/plain": [
       "---\n",
       "\n",
       "## TimeGPT.forecast\n",
       "\n",
       ">      TimeGPT.forecast (h:int, df:pandas.core.frame.DataFrame,\n",
       ">                        X_df:Optional[pandas.core.frame.DataFrame]=None,\n",
       ">                        level:Optional[List[int]]=None, finetune_steps:int=0,\n",
       ">                        clean_ex_first:bool=True)\n",
       "\n",
       "Forecast your time series using TimeGPT.\n",
       "\n",
       "|    | **Type** | **Default** | **Details** |\n",
       "| -- | -------- | ----------- | ----------- |\n",
       "| h | int |  | Forecast horizon. |\n",
       "| df | DataFrame |  | DataFrame with columns [`unique_id`, `ds`, `y`] and exogenous.<br>If None, the `StatsForecast` class should have been instantiated<br>using `df`. |\n",
       "| X_df | Optional | None | DataFrame with [`unique_id`, `ds`] columns and `df`'s future exogenous. |\n",
       "| level | Optional | None | Confidence levels between 0 and 100 for prediction intervals. |\n",
       "| finetune_steps | int | 0 | Number of steps used to finetune TimeGPT in the<br>new data. |\n",
       "| clean_ex_first | bool | True | Clean exogenous signal before making forecasts<br>using TimeGPT. |\n",
       "| **Returns** | **pandas.DataFrame** |  | **DataFrame with TimeGPT forecasts for point predictions and probabilistic<br>predictions (if level is not None).** |"
      ]
     },
     "execution_count": null,
     "metadata": {},
     "output_type": "execute_result"
    }
   ],
   "source": [
    "show_doc(TimeGPT.forecast, title_level=2)"
   ]
  }
 ],
 "metadata": {
  "kernelspec": {
   "display_name": "python3",
   "language": "python",
   "name": "python3"
  }
 },
 "nbformat": 4,
 "nbformat_minor": 4
}
